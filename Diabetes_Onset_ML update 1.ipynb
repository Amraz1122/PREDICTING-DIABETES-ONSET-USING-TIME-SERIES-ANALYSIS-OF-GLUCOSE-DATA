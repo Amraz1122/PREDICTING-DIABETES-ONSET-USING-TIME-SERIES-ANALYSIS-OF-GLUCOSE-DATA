{
 "cells": [
  {
   "cell_type": "markdown",
   "metadata": {
    "id": "zpq_It7kM0t8"
   },
   "source": [
    "Load and Inspect Dataset"
   ]
  },
  {
   "cell_type": "code",
   "execution_count": 21,
   "metadata": {
    "colab": {
     "base_uri": "https://localhost:8080/"
    },
    "id": "lUFSlJOcM3tU",
    "outputId": "07c1b149-78a5-489a-fa29-3f414f874edd"
   },
   "outputs": [
    {
     "name": "stdout",
     "output_type": "stream",
     "text": [
      "Dataset Overview:\n",
      "   Age  Blood Glucose Level(BGL)  Diastolic Blood Pressure  \\\n",
      "0    9                        79                        73   \n",
      "1    9                        80                        73   \n",
      "2    9                        70                        76   \n",
      "3    9                        70                        78   \n",
      "4   66                       100                        96   \n",
      "\n",
      "   Systolic Blood Pressure  Heart Rate  Body Temperature  SPO2  \\\n",
      "0                      118          98         98.300707    99   \n",
      "1                      119         102         98.300707    94   \n",
      "2                      110          81         98.300707    98   \n",
      "3                      115          96         98.300707    96   \n",
      "4                      144          92         97.807052    98   \n",
      "\n",
      "   Sweating  (Y/N)  Shivering (Y/N) Diabetic/NonDiabetic (D/N)  \n",
      "0                0                0                          N  \n",
      "1                1                0                          N  \n",
      "2                1                0                          N  \n",
      "3                1                0                          N  \n",
      "4                0                0                          N  \n",
      "\n",
      "Dataset Information:\n",
      "<class 'pandas.core.frame.DataFrame'>\n",
      "RangeIndex: 16969 entries, 0 to 16968\n",
      "Data columns (total 10 columns):\n",
      " #   Column                      Non-Null Count  Dtype  \n",
      "---  ------                      --------------  -----  \n",
      " 0   Age                         16969 non-null  int64  \n",
      " 1   Blood Glucose Level(BGL)    16969 non-null  int64  \n",
      " 2   Diastolic Blood Pressure    16969 non-null  int64  \n",
      " 3   Systolic Blood Pressure     16969 non-null  int64  \n",
      " 4   Heart Rate                  16969 non-null  int64  \n",
      " 5   Body Temperature            16969 non-null  float64\n",
      " 6   SPO2                        16969 non-null  int64  \n",
      " 7   Sweating  (Y/N)             16969 non-null  int64  \n",
      " 8   Shivering (Y/N)             16969 non-null  int64  \n",
      " 9   Diabetic/NonDiabetic (D/N)  16969 non-null  object \n",
      "dtypes: float64(1), int64(8), object(1)\n",
      "memory usage: 1.3+ MB\n",
      "\n",
      "Missing Values in Each Column:\n",
      "Age                           0\n",
      "Blood Glucose Level(BGL)      0\n",
      "Diastolic Blood Pressure      0\n",
      "Systolic Blood Pressure       0\n",
      "Heart Rate                    0\n",
      "Body Temperature              0\n",
      "SPO2                          0\n",
      "Sweating  (Y/N)               0\n",
      "Shivering (Y/N)               0\n",
      "Diabetic/NonDiabetic (D/N)    0\n",
      "dtype: int64\n"
     ]
    }
   ],
   "source": [
    "import pandas as pd\n",
    "\n",
    "# Load the dataset\n",
    "file_path = 'Cleaned_Blood_Glucose_Data.xlsx'\n",
    "data = pd.read_excel(file_path)\n",
    "\n",
    "# Display dataset overview\n",
    "print(\"Dataset Overview:\")\n",
    "print(data.head())\n",
    "print(\"\\nDataset Information:\")\n",
    "data.info()\n",
    "\n",
    "# Check for missing values\n",
    "print(\"\\nMissing Values in Each Column:\")\n",
    "print(data.isnull().sum())"
   ]
  },
  {
   "cell_type": "markdown",
   "metadata": {
    "id": "LwFUlgcqM9JO"
   },
   "source": [
    "Data Cleaning"
   ]
  },
  {
   "cell_type": "code",
   "execution_count": 22,
   "metadata": {
    "colab": {
     "base_uri": "https://localhost:8080/"
    },
    "id": "_XLHtk7aNC3X",
    "outputId": "caaa1fe9-135e-4548-af3e-7a085cc11214"
   },
   "outputs": [
    {
     "name": "stdout",
     "output_type": "stream",
     "text": [
      "\n",
      "Cleaned Dataset:\n",
      "   Age  Glucose_Level  Diastolic Blood Pressure  Systolic Blood Pressure  \\\n",
      "0    9             79                        73                      118   \n",
      "1    9             80                        73                      119   \n",
      "2    9             70                        76                      110   \n",
      "3    9             70                        78                      115   \n",
      "4   66            100                        96                      144   \n",
      "\n",
      "   Heart Rate  Body Temperature  SPO2  Sweating  (Y/N)  Shivering (Y/N)  \\\n",
      "0          98         98.300707    99                0                0   \n",
      "1         102         98.300707    94                1                0   \n",
      "2          81         98.300707    98                1                0   \n",
      "3          96         98.300707    96                1                0   \n",
      "4          92         97.807052    98                0                0   \n",
      "\n",
      "  Diabetic_Status  \n",
      "0               N  \n",
      "1               N  \n",
      "2               N  \n",
      "3               N  \n",
      "4               N  \n"
     ]
    },
    {
     "name": "stderr",
     "output_type": "stream",
     "text": [
      "<ipython-input-22-768cb2f3f46e>:7: FutureWarning: A value is trying to be set on a copy of a DataFrame or Series through chained assignment using an inplace method.\n",
      "The behavior will change in pandas 3.0. This inplace method will never work because the intermediate object on which we are setting values always behaves as a copy.\n",
      "\n",
      "For example, when doing 'df[col].method(value, inplace=True)', try using 'df.method({col: value}, inplace=True)' or df[col] = df[col].method(value) instead, to perform the operation inplace on the original object.\n",
      "\n",
      "\n",
      "  data[col].fillna(data[col].median(), inplace=True)\n"
     ]
    }
   ],
   "source": [
    "# Rename columns for clarity\n",
    "data.rename(columns={'Blood Glucose Level(BGL)': 'Glucose_Level',\n",
    "                     'Diabetic/NonDiabetic (D/N)': 'Diabetic_Status'}, inplace=True)\n",
    "\n",
    "# Handle missing values with median imputation\n",
    "for col in data.select_dtypes(include='number').columns:\n",
    "    data[col].fillna(data[col].median(), inplace=True)\n",
    "\n",
    "# Drop duplicates\n",
    "data.drop_duplicates(inplace=True)\n",
    "\n",
    "print(\"\\nCleaned Dataset:\")\n",
    "print(data.head())"
   ]
  },
  {
   "cell_type": "markdown",
   "metadata": {
    "id": "ZyImYR_aNHYx"
   },
   "source": [
    "Outlier Detection and Removal"
   ]
  },
  {
   "cell_type": "code",
   "execution_count": 23,
   "metadata": {
    "colab": {
     "base_uri": "https://localhost:8080/"
    },
    "id": "O1H51nCtNKLH",
    "outputId": "43e3ff4c-e6f8-423c-b673-935f04c49726"
   },
   "outputs": [
    {
     "name": "stdout",
     "output_type": "stream",
     "text": [
      "Outliers Removed: 1122\n"
     ]
    }
   ],
   "source": [
    "from scipy.stats import zscore\n",
    "import numpy as np\n",
    "\n",
    "# Remove outliers based on Z-scores\n",
    "z_scores = np.abs(zscore(data.select_dtypes(include='number')))\n",
    "outlier_threshold = 3\n",
    "data_no_outliers = data[(z_scores < outlier_threshold).all(axis=1)]\n",
    "\n",
    "print(f\"Outliers Removed: {len(data) - len(data_no_outliers)}\")\n",
    "data = data_no_outliers"
   ]
  },
  {
   "cell_type": "markdown",
   "metadata": {
    "id": "lHRJ0_iENN7o"
   },
   "source": [
    "New Feature Engineering"
   ]
  },
  {
   "cell_type": "code",
   "execution_count": 24,
   "metadata": {
    "colab": {
     "base_uri": "https://localhost:8080/"
    },
    "id": "Io-zu0F1NQd2",
    "outputId": "62338c74-6694-4fd2-da4c-5322724bf945"
   },
   "outputs": [
    {
     "name": "stdout",
     "output_type": "stream",
     "text": [
      "\n",
      "Derived Features:\n",
      "   Glucose_to_BloodPressure  HeartRate_to_Age  BloodPressure_Difference  \\\n",
      "0                  0.669492         10.888889                        45   \n",
      "2                  0.636364          9.000000                        34   \n",
      "3                  0.608696         10.666667                        37   \n",
      "5                  0.751880          1.348485                        61   \n",
      "7                  0.714286          1.257576                        63   \n",
      "\n",
      "  Age_Group  \n",
      "0     Child  \n",
      "2     Child  \n",
      "3     Child  \n",
      "5    Senior  \n",
      "7    Senior  \n"
     ]
    }
   ],
   "source": [
    "# Add new derived features\n",
    "data['Glucose_to_BloodPressure'] = data['Glucose_Level'] / data['Systolic Blood Pressure']\n",
    "data['HeartRate_to_Age'] = data['Heart Rate'] / data['Age']\n",
    "data['BloodPressure_Difference'] = data['Systolic Blood Pressure'] - data['Diastolic Blood Pressure']\n",
    "\n",
    "# Encode age group\n",
    "data['Age_Group'] = pd.cut(data['Age'], bins=[0, 18, 45, 60, 100], labels=['Child', 'Young Adult', 'Middle Age', 'Senior'])\n",
    "\n",
    "print(\"\\nDerived Features:\")\n",
    "print(data[['Glucose_to_BloodPressure', 'HeartRate_to_Age', 'BloodPressure_Difference', 'Age_Group']].head())"
   ]
  },
  {
   "cell_type": "markdown",
   "metadata": {
    "id": "B2Z4eaQqNYwM"
   },
   "source": [
    "Data Exploration - Distribution Plots"
   ]
  },
  {
   "cell_type": "code",
   "execution_count": 25,
   "metadata": {
    "colab": {
     "base_uri": "https://localhost:8080/",
     "height": 571
    },
    "id": "ilcnPYtENZjR",
    "outputId": "fd8a0016-5d8f-4224-c1f2-2b0f3a8f1c7f"
   },
   "outputs": [
    {
     "data": {
      "image/png": "[encoded data removed]",
      "text/plain": [
       "<Figure size 1200x600 with 1 Axes>"
      ]
     },
     "metadata": {},
     "output_type": "display_data"
    }
   ],
   "source": [
    "import seaborn as sns\n",
    "import matplotlib.pyplot as plt\n",
    "\n",
    "# Distribution of Glucose Levels\n",
    "plt.figure(figsize=(12, 6))\n",
    "sns.histplot(data['Glucose_Level'], kde=True, color='blue', bins=30)\n",
    "plt.title('Distribution of Glucose Levels', fontsize=16)\n",
    "plt.xlabel('Glucose Level', fontsize=14)\n",
    "plt.ylabel('Frequency', fontsize=14)\n",
    "plt.grid(axis='y', linestyle='--')\n",
    "plt.show()"
   ]
  },
  {
   "cell_type": "markdown",
   "metadata": {
    "id": "zsD-9lC0NdmQ"
   },
   "source": [
    "Correlation Heatmap"
   ]
  }
 ],
 "metadata": {
  "colab": {
   "provenance": []
  },
  "kernelspec": {
   "display_name": "Python 3 (ipykernel)",
   "language": "python",
   "name": "python3"
  },
  "language_info": {
   "codemirror_mode": {
    "name": "ipython",
    "version": 3
   },
   "file_extension": ".py",
   "mimetype": "text/x-python",
   "name": "python",
   "nbconvert_exporter": "python",
   "pygments_lexer": "ipython3",
   "version": "3.12.7"
  }
 },
 "nbformat": 4,
 "nbformat_minor": 4
}
